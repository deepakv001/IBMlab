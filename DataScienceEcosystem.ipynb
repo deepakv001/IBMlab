{
 "cells": [
  {
   "cell_type": "markdown",
   "id": "52cb2721-2b78-4a42-8ab8-e31c7c5f187a",
   "metadata": {},
   "source": [
    "# Data Science Tools and Ecosystem"
   ]
  },
  {
   "cell_type": "markdown",
   "id": "33563e6a-0d4a-41d3-9ca9-1c80596e2baf",
   "metadata": {},
   "source": [
    "In this notebook, Data Science Tools and Ecosystem are summarized."
   ]
  },
  {
   "cell_type": "markdown",
   "id": "e6db73e4-2173-4655-89a6-80844294be29",
   "metadata": {
    "tags": []
   },
   "source": [
    "**Objectives:**"
   ]
  },
  {
   "cell_type": "markdown",
   "id": "ba5eb974-193b-4437-91fe-394b52b88aa8",
   "metadata": {},
   "source": [
    "- List popular languages for Data Science\n",
    "- Create a markdown cell to list data science libraries\n",
    "- Create a markdown cell with a table of Data Science tools\n",
    "- Create a markdown cell introducing arithmetic expression examples"
   ]
  },
  {
   "cell_type": "markdown",
   "id": "cb277243-eca9-4d69-b55c-5097537be03b",
   "metadata": {},
   "source": [
    "## Author\n",
    "Deepa"
   ]
  },
  {
   "cell_type": "markdown",
   "id": "17f5cff9-595c-44db-8c54-9ed2674fd238",
   "metadata": {},
   "source": [
    "Some of the popular languages that Data Scientists use are:"
   ]
  },
  {
   "cell_type": "markdown",
   "id": "c72b36d9-adb5-42f6-a8c7-98ca9ec13a41",
   "metadata": {},
   "source": [
    "1. R\n",
    "2. SQL\n",
    "3. Python\n",
    "4. Scala"
   ]
  },
  {
   "cell_type": "markdown",
   "id": "a633e29e-7558-476e-91f2-8a190ceaa877",
   "metadata": {},
   "source": [
    "Some of the commonly used libraries used by Data Scientists include:"
   ]
  },
  {
   "cell_type": "markdown",
   "id": "b300ee82-5a80-4bde-8ff9-41db1d5a395b",
   "metadata": {},
   "source": [
    "1. Pandas\n",
    "2. Keras\n",
    "3. NumPy\n",
    "4. PyTorch"
   ]
  },
  {
   "cell_type": "markdown",
   "id": "54ce619c-1cbd-4a96-8ca6-ba6871c478d5",
   "metadata": {},
   "source": [
    "\n",
    "| Data Science Tools | \n",
    "| ------|\n",
    "| Apache Spark | \n",
    "| RStudio|\n",
    "|TensorFlow|\n",
    "\n",
    "\n"
   ]
  },
  {
   "cell_type": "markdown",
   "id": "a6809aa0-34b2-4a7c-8384-840ea47efad5",
   "metadata": {},
   "source": [
    "### Below are a few examples of evaluating arithmetic expressions in Python"
   ]
  },
  {
   "cell_type": "markdown",
   "id": "edf3c754-f6da-41d5-a4b7-8aa10e20df76",
   "metadata": {},
   "source": [
    "This a simple arithmetic expression to mutiply then add integers"
   ]
  },
  {
   "cell_type": "code",
   "execution_count": 13,
   "id": "e051b183-d4cb-408f-9b9d-0edd9b9d470f",
   "metadata": {
    "tags": []
   },
   "outputs": [
    {
     "data": {
      "text/plain": [
       "17"
      ]
     },
     "execution_count": 13,
     "metadata": {},
     "output_type": "execute_result"
    }
   ],
   "source": [
    "(3*4)+5"
   ]
  },
  {
   "cell_type": "markdown",
   "id": "ca8f48fb-a5d9-4136-9916-8c7876ecb803",
   "metadata": {},
   "source": [
    "This will convert 200 minutes to hours by diving by 60"
   ]
  },
  {
   "cell_type": "code",
   "execution_count": 15,
   "id": "95151af9-e404-45a3-b821-e22662fa87a6",
   "metadata": {
    "tags": []
   },
   "outputs": [
    {
     "data": {
      "text/plain": [
       "3.3333333333333335"
      ]
     },
     "execution_count": 15,
     "metadata": {},
     "output_type": "execute_result"
    }
   ],
   "source": [
    "200/60"
   ]
  },
  {
   "cell_type": "code",
   "execution_count": null,
   "id": "a9383e50-845c-4264-b525-874554914c7b",
   "metadata": {},
   "outputs": [],
   "source": []
  }
 ],
 "metadata": {
  "kernelspec": {
   "display_name": "Python",
   "language": "python",
   "name": "conda-env-python-py"
  },
  "language_info": {
   "codemirror_mode": {
    "name": "ipython",
    "version": 3
   },
   "file_extension": ".py",
   "mimetype": "text/x-python",
   "name": "python",
   "nbconvert_exporter": "python",
   "pygments_lexer": "ipython3",
   "version": "3.7.12"
  }
 },
 "nbformat": 4,
 "nbformat_minor": 5
}
